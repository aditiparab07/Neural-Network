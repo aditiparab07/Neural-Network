{
 "cells": [
  {
   "cell_type": "code",
   "execution_count": 23,
   "id": "7d359a6e",
   "metadata": {},
   "outputs": [],
   "source": [
    "from tensorflow import keras\n",
    "from keras.models import Sequential\n",
    "from keras.layers import Dense\n",
    "import numpy as np\n",
    "import pandas as pd\n",
    "from sklearn.preprocessing import StandardScaler\n",
    "import math\n",
    "from sklearn.metrics import mean_squared_error"
   ]
  },
  {
   "cell_type": "markdown",
   "id": "12822e84",
   "metadata": {},
   "source": [
    "## Bussiness Problem\n",
    "predicting turbine energy yield (TEY) using ambient variables as features.\n",
    "## Data collection and description"
   ]
  },
  {
   "cell_type": "code",
   "execution_count": 24,
   "id": "3a750197",
   "metadata": {},
   "outputs": [
    {
     "data": {
      "text/html": [
       "<div>\n",
       "<style scoped>\n",
       "    .dataframe tbody tr th:only-of-type {\n",
       "        vertical-align: middle;\n",
       "    }\n",
       "\n",
       "    .dataframe tbody tr th {\n",
       "        vertical-align: top;\n",
       "    }\n",
       "\n",
       "    .dataframe thead th {\n",
       "        text-align: right;\n",
       "    }\n",
       "</style>\n",
       "<table border=\"1\" class=\"dataframe\">\n",
       "  <thead>\n",
       "    <tr style=\"text-align: right;\">\n",
       "      <th></th>\n",
       "      <th>AT</th>\n",
       "      <th>AP</th>\n",
       "      <th>AH</th>\n",
       "      <th>AFDP</th>\n",
       "      <th>GTEP</th>\n",
       "      <th>TIT</th>\n",
       "      <th>TAT</th>\n",
       "      <th>TEY</th>\n",
       "      <th>CDP</th>\n",
       "      <th>CO</th>\n",
       "      <th>NOX</th>\n",
       "    </tr>\n",
       "  </thead>\n",
       "  <tbody>\n",
       "    <tr>\n",
       "      <th>0</th>\n",
       "      <td>6.8594</td>\n",
       "      <td>1007.9</td>\n",
       "      <td>96.799</td>\n",
       "      <td>3.5000</td>\n",
       "      <td>19.663</td>\n",
       "      <td>1059.2</td>\n",
       "      <td>550.00</td>\n",
       "      <td>114.70</td>\n",
       "      <td>10.605</td>\n",
       "      <td>3.1547</td>\n",
       "      <td>82.722</td>\n",
       "    </tr>\n",
       "    <tr>\n",
       "      <th>1</th>\n",
       "      <td>6.7850</td>\n",
       "      <td>1008.4</td>\n",
       "      <td>97.118</td>\n",
       "      <td>3.4998</td>\n",
       "      <td>19.728</td>\n",
       "      <td>1059.3</td>\n",
       "      <td>550.00</td>\n",
       "      <td>114.72</td>\n",
       "      <td>10.598</td>\n",
       "      <td>3.2363</td>\n",
       "      <td>82.776</td>\n",
       "    </tr>\n",
       "    <tr>\n",
       "      <th>2</th>\n",
       "      <td>6.8977</td>\n",
       "      <td>1008.8</td>\n",
       "      <td>95.939</td>\n",
       "      <td>3.4824</td>\n",
       "      <td>19.779</td>\n",
       "      <td>1059.4</td>\n",
       "      <td>549.87</td>\n",
       "      <td>114.71</td>\n",
       "      <td>10.601</td>\n",
       "      <td>3.2012</td>\n",
       "      <td>82.468</td>\n",
       "    </tr>\n",
       "    <tr>\n",
       "      <th>3</th>\n",
       "      <td>7.0569</td>\n",
       "      <td>1009.2</td>\n",
       "      <td>95.249</td>\n",
       "      <td>3.4805</td>\n",
       "      <td>19.792</td>\n",
       "      <td>1059.6</td>\n",
       "      <td>549.99</td>\n",
       "      <td>114.72</td>\n",
       "      <td>10.606</td>\n",
       "      <td>3.1923</td>\n",
       "      <td>82.670</td>\n",
       "    </tr>\n",
       "    <tr>\n",
       "      <th>4</th>\n",
       "      <td>7.3978</td>\n",
       "      <td>1009.7</td>\n",
       "      <td>95.150</td>\n",
       "      <td>3.4976</td>\n",
       "      <td>19.765</td>\n",
       "      <td>1059.7</td>\n",
       "      <td>549.98</td>\n",
       "      <td>114.72</td>\n",
       "      <td>10.612</td>\n",
       "      <td>3.2484</td>\n",
       "      <td>82.311</td>\n",
       "    </tr>\n",
       "    <tr>\n",
       "      <th>...</th>\n",
       "      <td>...</td>\n",
       "      <td>...</td>\n",
       "      <td>...</td>\n",
       "      <td>...</td>\n",
       "      <td>...</td>\n",
       "      <td>...</td>\n",
       "      <td>...</td>\n",
       "      <td>...</td>\n",
       "      <td>...</td>\n",
       "      <td>...</td>\n",
       "      <td>...</td>\n",
       "    </tr>\n",
       "    <tr>\n",
       "      <th>15034</th>\n",
       "      <td>9.0301</td>\n",
       "      <td>1005.6</td>\n",
       "      <td>98.460</td>\n",
       "      <td>3.5421</td>\n",
       "      <td>19.164</td>\n",
       "      <td>1049.7</td>\n",
       "      <td>546.21</td>\n",
       "      <td>111.61</td>\n",
       "      <td>10.400</td>\n",
       "      <td>4.5186</td>\n",
       "      <td>79.559</td>\n",
       "    </tr>\n",
       "    <tr>\n",
       "      <th>15035</th>\n",
       "      <td>7.8879</td>\n",
       "      <td>1005.9</td>\n",
       "      <td>99.093</td>\n",
       "      <td>3.5059</td>\n",
       "      <td>19.414</td>\n",
       "      <td>1046.3</td>\n",
       "      <td>543.22</td>\n",
       "      <td>111.78</td>\n",
       "      <td>10.433</td>\n",
       "      <td>4.8470</td>\n",
       "      <td>79.917</td>\n",
       "    </tr>\n",
       "    <tr>\n",
       "      <th>15036</th>\n",
       "      <td>7.2647</td>\n",
       "      <td>1006.3</td>\n",
       "      <td>99.496</td>\n",
       "      <td>3.4770</td>\n",
       "      <td>19.530</td>\n",
       "      <td>1037.7</td>\n",
       "      <td>537.32</td>\n",
       "      <td>110.19</td>\n",
       "      <td>10.483</td>\n",
       "      <td>7.9632</td>\n",
       "      <td>90.912</td>\n",
       "    </tr>\n",
       "    <tr>\n",
       "      <th>15037</th>\n",
       "      <td>7.0060</td>\n",
       "      <td>1006.8</td>\n",
       "      <td>99.008</td>\n",
       "      <td>3.4486</td>\n",
       "      <td>19.377</td>\n",
       "      <td>1043.2</td>\n",
       "      <td>541.24</td>\n",
       "      <td>110.74</td>\n",
       "      <td>10.533</td>\n",
       "      <td>6.2494</td>\n",
       "      <td>93.227</td>\n",
       "    </tr>\n",
       "    <tr>\n",
       "      <th>15038</th>\n",
       "      <td>6.9279</td>\n",
       "      <td>1007.2</td>\n",
       "      <td>97.533</td>\n",
       "      <td>3.4275</td>\n",
       "      <td>19.306</td>\n",
       "      <td>1049.9</td>\n",
       "      <td>545.85</td>\n",
       "      <td>111.58</td>\n",
       "      <td>10.583</td>\n",
       "      <td>4.9816</td>\n",
       "      <td>92.498</td>\n",
       "    </tr>\n",
       "  </tbody>\n",
       "</table>\n",
       "<p>15039 rows × 11 columns</p>\n",
       "</div>"
      ],
      "text/plain": [
       "           AT      AP      AH    AFDP    GTEP     TIT     TAT     TEY     CDP  \\\n",
       "0      6.8594  1007.9  96.799  3.5000  19.663  1059.2  550.00  114.70  10.605   \n",
       "1      6.7850  1008.4  97.118  3.4998  19.728  1059.3  550.00  114.72  10.598   \n",
       "2      6.8977  1008.8  95.939  3.4824  19.779  1059.4  549.87  114.71  10.601   \n",
       "3      7.0569  1009.2  95.249  3.4805  19.792  1059.6  549.99  114.72  10.606   \n",
       "4      7.3978  1009.7  95.150  3.4976  19.765  1059.7  549.98  114.72  10.612   \n",
       "...       ...     ...     ...     ...     ...     ...     ...     ...     ...   \n",
       "15034  9.0301  1005.6  98.460  3.5421  19.164  1049.7  546.21  111.61  10.400   \n",
       "15035  7.8879  1005.9  99.093  3.5059  19.414  1046.3  543.22  111.78  10.433   \n",
       "15036  7.2647  1006.3  99.496  3.4770  19.530  1037.7  537.32  110.19  10.483   \n",
       "15037  7.0060  1006.8  99.008  3.4486  19.377  1043.2  541.24  110.74  10.533   \n",
       "15038  6.9279  1007.2  97.533  3.4275  19.306  1049.9  545.85  111.58  10.583   \n",
       "\n",
       "           CO     NOX  \n",
       "0      3.1547  82.722  \n",
       "1      3.2363  82.776  \n",
       "2      3.2012  82.468  \n",
       "3      3.1923  82.670  \n",
       "4      3.2484  82.311  \n",
       "...       ...     ...  \n",
       "15034  4.5186  79.559  \n",
       "15035  4.8470  79.917  \n",
       "15036  7.9632  90.912  \n",
       "15037  6.2494  93.227  \n",
       "15038  4.9816  92.498  \n",
       "\n",
       "[15039 rows x 11 columns]"
      ]
     },
     "execution_count": 24,
     "metadata": {},
     "output_type": "execute_result"
    }
   ],
   "source": [
    "data=pd.read_csv('gas_turbines.csv')\n",
    "data"
   ]
  },
  {
   "cell_type": "code",
   "execution_count": 26,
   "id": "67a6d36c",
   "metadata": {},
   "outputs": [
    {
     "data": {
      "text/plain": [
       "Index(['AT', 'AP', 'AH', 'AFDP', 'GTEP', 'TIT', 'TAT', 'TEY', 'CDP', 'CO',\n",
       "       'NOX'],\n",
       "      dtype='object')"
      ]
     },
     "execution_count": 26,
     "metadata": {},
     "output_type": "execute_result"
    }
   ],
   "source": [
    "data.columns"
   ]
  },
  {
   "cell_type": "code",
   "execution_count": 27,
   "id": "857171f3",
   "metadata": {},
   "outputs": [],
   "source": [
    "# Using only ambient variables as features and TEY as target variable as given in problem statement"
   ]
  },
  {
   "cell_type": "code",
   "execution_count": 28,
   "id": "5f8da03d",
   "metadata": {},
   "outputs": [],
   "source": [
    "x=data[['AT', 'AP', 'AH']]\n",
    "y=data['TEY']"
   ]
  },
  {
   "cell_type": "code",
   "execution_count": 29,
   "id": "850f6ad5",
   "metadata": {},
   "outputs": [],
   "source": [
    "# Splitting data to train and test"
   ]
  },
  {
   "cell_type": "code",
   "execution_count": 30,
   "id": "1d803571",
   "metadata": {},
   "outputs": [
    {
     "name": "stdout",
     "output_type": "stream",
     "text": [
      "(10527, 3)\n",
      "(10527,)\n",
      "(4512, 3)\n",
      "(4512,)\n"
     ]
    }
   ],
   "source": [
    "from sklearn.model_selection import train_test_split\n",
    "x_train, x_test, y_train, y_test = train_test_split(x, y, test_size=0.3, random_state=42)\n",
    " \n",
    "\n",
    "print(x_train.shape)\n",
    "print(y_train.shape)\n",
    "print(x_test.shape)\n",
    "print(y_test.shape)"
   ]
  },
  {
   "cell_type": "code",
   "execution_count": 31,
   "id": "50cd67ce",
   "metadata": {},
   "outputs": [],
   "source": [
    "# Buliding model with 3 hidden layers"
   ]
  },
  {
   "cell_type": "code",
   "execution_count": 32,
   "id": "98105f24",
   "metadata": {},
   "outputs": [],
   "source": [
    "model = Sequential()\n",
    "model.add(Dense(units=12, input_dim=3, kernel_initializer='normal', activation='relu'))\n",
    "model.add(Dense(units=8, kernel_initializer='normal', activation='tanh'))\n",
    "model.add(Dense(1, kernel_initializer='normal'))"
   ]
  },
  {
   "cell_type": "code",
   "execution_count": 33,
   "id": "300990fc",
   "metadata": {},
   "outputs": [],
   "source": [
    "# Compiling the model with Mean squared error as this is regression problem"
   ]
  },
  {
   "cell_type": "code",
   "execution_count": 34,
   "id": "07ce21e7",
   "metadata": {},
   "outputs": [],
   "source": [
    "model.compile(loss='mean_squared_error', optimizer='adam')"
   ]
  },
  {
   "cell_type": "code",
   "execution_count": 35,
   "id": "effca883",
   "metadata": {},
   "outputs": [],
   "source": [
    "# Fitting the model with 50 epochs and batch size as 10"
   ]
  },
  {
   "cell_type": "code",
   "execution_count": 36,
   "id": "802193b5",
   "metadata": {},
   "outputs": [
    {
     "name": "stdout",
     "output_type": "stream",
     "text": [
      "Epoch 1/50\n",
      "1053/1053 [==============================] - 3s 2ms/step - loss: 17001.3438\n",
      "Epoch 2/50\n",
      "1053/1053 [==============================] - 3s 2ms/step - loss: 14701.0039\n",
      "Epoch 3/50\n",
      "1053/1053 [==============================] - 3s 2ms/step - loss: 12617.9238\n",
      "Epoch 4/50\n",
      "1053/1053 [==============================] - 2s 2ms/step - loss: 10726.3916\n",
      "Epoch 5/50\n",
      "1053/1053 [==============================] - 3s 2ms/step - loss: 9012.2441\n",
      "Epoch 6/50\n",
      "1053/1053 [==============================] - 3s 2ms/step - loss: 7466.6030\n",
      "Epoch 7/50\n",
      "1053/1053 [==============================] - 3s 2ms/step - loss: 6085.0425\n",
      "Epoch 8/50\n",
      "1053/1053 [==============================] - 3s 2ms/step - loss: 4863.4756\n",
      "Epoch 9/50\n",
      "1053/1053 [==============================] - 3s 2ms/step - loss: 3799.4741\n",
      "Epoch 10/50\n",
      "1053/1053 [==============================] - 3s 2ms/step - loss: 2888.8218\n",
      "Epoch 11/50\n",
      "1053/1053 [==============================] - 3s 2ms/step - loss: 2128.2593\n",
      "Epoch 12/50\n",
      "1053/1053 [==============================] - 3s 2ms/step - loss: 1513.5210\n",
      "Epoch 13/50\n",
      "1053/1053 [==============================] - 3s 2ms/step - loss: 1037.6648\n",
      "Epoch 14/50\n",
      "1053/1053 [==============================] - 3s 3ms/step - loss: 691.2629\n",
      "Epoch 15/50\n",
      "1053/1053 [==============================] - 3s 3ms/step - loss: 461.5022\n",
      "Epoch 16/50\n",
      "1053/1053 [==============================] - 2s 2ms/step - loss: 329.9308\n",
      "Epoch 17/50\n",
      "1053/1053 [==============================] - 3s 2ms/step - loss: 270.8459\n",
      "Epoch 18/50\n",
      "1053/1053 [==============================] - 3s 2ms/step - loss: 253.0983\n",
      "Epoch 19/50\n",
      "1053/1053 [==============================] - 3s 2ms/step - loss: 250.0271\n",
      "Epoch 20/50\n",
      "1053/1053 [==============================] - 3s 2ms/step - loss: 249.7881\n",
      "Epoch 21/50\n",
      "1053/1053 [==============================] - 3s 2ms/step - loss: 249.8179\n",
      "Epoch 22/50\n",
      "1053/1053 [==============================] - 3s 2ms/step - loss: 249.8055\n",
      "Epoch 23/50\n",
      "1053/1053 [==============================] - 3s 2ms/step - loss: 249.8232\n",
      "Epoch 24/50\n",
      "1053/1053 [==============================] - 3s 2ms/step - loss: 249.8125\n",
      "Epoch 25/50\n",
      "1053/1053 [==============================] - 3s 2ms/step - loss: 249.8024\n",
      "Epoch 26/50\n",
      "1053/1053 [==============================] - 3s 2ms/step - loss: 249.8253\n",
      "Epoch 27/50\n",
      "1053/1053 [==============================] - 3s 3ms/step - loss: 249.8130\n",
      "Epoch 28/50\n",
      "1053/1053 [==============================] - 3s 2ms/step - loss: 249.8122\n",
      "Epoch 29/50\n",
      "1053/1053 [==============================] - 3s 2ms/step - loss: 249.8222\n",
      "Epoch 30/50\n",
      "1053/1053 [==============================] - 3s 2ms/step - loss: 249.8054\n",
      "Epoch 31/50\n",
      "1053/1053 [==============================] - 3s 2ms/step - loss: 249.8140\n",
      "Epoch 32/50\n",
      "1053/1053 [==============================] - 3s 2ms/step - loss: 249.7999\n",
      "Epoch 33/50\n",
      "1053/1053 [==============================] - 3s 2ms/step - loss: 249.7940\n",
      "Epoch 34/50\n",
      "1053/1053 [==============================] - 3s 2ms/step - loss: 249.8207\n",
      "Epoch 35/50\n",
      "1053/1053 [==============================] - 3s 2ms/step - loss: 249.8111\n",
      "Epoch 36/50\n",
      "1053/1053 [==============================] - 3s 2ms/step - loss: 249.8070\n",
      "Epoch 37/50\n",
      "1053/1053 [==============================] - 3s 2ms/step - loss: 249.7879\n",
      "Epoch 38/50\n",
      "1053/1053 [==============================] - 3s 3ms/step - loss: 249.8103\n",
      "Epoch 39/50\n",
      "1053/1053 [==============================] - 3s 3ms/step - loss: 249.8146\n",
      "Epoch 40/50\n",
      "1053/1053 [==============================] - 3s 2ms/step - loss: 249.8077\n",
      "Epoch 41/50\n",
      "1053/1053 [==============================] - 3s 3ms/step - loss: 249.8187\n",
      "Epoch 42/50\n",
      "1053/1053 [==============================] - 3s 3ms/step - loss: 249.8087\n",
      "Epoch 43/50\n",
      "1053/1053 [==============================] - 3s 3ms/step - loss: 249.8017\n",
      "Epoch 44/50\n",
      "1053/1053 [==============================] - 3s 2ms/step - loss: 249.8095\n",
      "Epoch 45/50\n",
      "1053/1053 [==============================] - 3s 3ms/step - loss: 249.8135\n",
      "Epoch 46/50\n",
      "1053/1053 [==============================] - 3s 2ms/step - loss: 249.8005\n",
      "Epoch 47/50\n",
      "1053/1053 [==============================] - 3s 2ms/step - loss: 249.8266\n",
      "Epoch 48/50\n",
      "1053/1053 [==============================] - 3s 2ms/step - loss: 249.8043\n",
      "Epoch 49/50\n",
      "1053/1053 [==============================] - 3s 2ms/step - loss: 249.8004\n",
      "Epoch 50/50\n",
      "1053/1053 [==============================] - 3s 2ms/step - loss: 249.8091\n"
     ]
    }
   ],
   "source": [
    "m=model.fit(x_train, y_train, epochs=50, batch_size=10)"
   ]
  },
  {
   "cell_type": "code",
   "execution_count": 37,
   "id": "ff2f7b1d",
   "metadata": {},
   "outputs": [],
   "source": [
    "# Predicting for test data"
   ]
  },
  {
   "cell_type": "code",
   "execution_count": 38,
   "id": "8ef1b890",
   "metadata": {},
   "outputs": [
    {
     "data": {
      "text/plain": [
       "array([[134.3195],\n",
       "       [134.3195],\n",
       "       [134.3195],\n",
       "       ...,\n",
       "       [134.3195],\n",
       "       [134.3195],\n",
       "       [134.3195]], dtype=float32)"
      ]
     },
     "execution_count": 38,
     "metadata": {},
     "output_type": "execute_result"
    }
   ],
   "source": [
    "Predictions=model.predict(x_test)\n",
    "Predictions"
   ]
  },
  {
   "cell_type": "code",
   "execution_count": 39,
   "id": "66b5f7ab",
   "metadata": {},
   "outputs": [
    {
     "name": "stdout",
     "output_type": "stream",
     "text": [
      "13312    134.46\n",
      "12627    111.88\n",
      "6393     133.72\n",
      "4990     133.79\n",
      "12462    110.77\n",
      "          ...  \n",
      "7495     134.08\n",
      "11501    102.87\n",
      "2685     155.96\n",
      "9412     133.67\n",
      "9775     156.32\n",
      "Name: TEY, Length: 4512, dtype: float64\n"
     ]
    }
   ],
   "source": [
    "print(y_test)"
   ]
  },
  {
   "cell_type": "code",
   "execution_count": 40,
   "id": "c6aa3eb7",
   "metadata": {},
   "outputs": [],
   "source": [
    "# Finding the error for our model"
   ]
  },
  {
   "cell_type": "code",
   "execution_count": 41,
   "id": "ff6b34e1",
   "metadata": {},
   "outputs": [
    {
     "data": {
      "text/plain": [
       "15.888905492136162"
      ]
     },
     "execution_count": 41,
     "metadata": {},
     "output_type": "execute_result"
    }
   ],
   "source": [
    "mean_squared_error(y_test,Predictions)\n",
    "math.sqrt(mean_squared_error(y_test,Predictions))\n"
   ]
  },
  {
   "cell_type": "markdown",
   "id": "3b97a626",
   "metadata": {},
   "source": [
    "####    We got error of 15.8 for our model using above parameters"
   ]
  },
  {
   "cell_type": "code",
   "execution_count": null,
   "id": "4b16a3ba",
   "metadata": {},
   "outputs": [],
   "source": []
  }
 ],
 "metadata": {
  "kernelspec": {
   "display_name": "Python 3 (ipykernel)",
   "language": "python",
   "name": "python3"
  },
  "language_info": {
   "codemirror_mode": {
    "name": "ipython",
    "version": 3
   },
   "file_extension": ".py",
   "mimetype": "text/x-python",
   "name": "python",
   "nbconvert_exporter": "python",
   "pygments_lexer": "ipython3",
   "version": "3.9.7"
  }
 },
 "nbformat": 4,
 "nbformat_minor": 5
}
